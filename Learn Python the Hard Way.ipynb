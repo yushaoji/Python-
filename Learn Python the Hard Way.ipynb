{
 "cells": [
  {
   "cell_type": "markdown",
   "metadata": {},
   "source": [
    "# ex6\n",
    "\n",
    "> 字符串可以包含**格式化字符%s**,你只要将格式化的变量放到字符串中,再紧跟着变量名即可.唯一要注意的地方, 是如果你想要在字符串中通过格式化字符放入多个变量的时候,你需要将变量放到()中,而且变量之间用“,”隔开."
   ]
  },
  {
   "cell_type": "code",
   "execution_count": 2,
   "metadata": {},
   "outputs": [
    {
     "name": "stdout",
     "output_type": "stream",
     "text": [
      "There are 10 types of people.\n",
      "Those who know binary and those who don't\n"
     ]
    }
   ],
   "source": [
    "x = \"There are %d types of people.\" % 10\n",
    "binary = \"binary\"\n",
    "do_not = \"don't\"\n",
    "y = \"Those who know %s and those who %s\" % (binary, do_not)\n",
    "\n",
    "print (x) \n",
    "print (y)"
   ]
  },
  {
   "cell_type": "code",
   "execution_count": 3,
   "metadata": {},
   "outputs": [
    {
     "name": "stdout",
     "output_type": "stream",
     "text": [
      "I said There are 10 types of people.\n",
      "I also said: 'Those who know binary and those who don't'.\n"
     ]
    }
   ],
   "source": [
    "print(\"I said %s\" % x)\n",
    "\n",
    "print(\"I also said: '%s'.\" % y)"
   ]
  },
  {
   "cell_type": "code",
   "execution_count": 4,
   "metadata": {},
   "outputs": [
    {
     "name": "stdout",
     "output_type": "stream",
     "text": [
      "Isn't that joke so funny?!False\n"
     ]
    }
   ],
   "source": [
    "hilarious = False\n",
    "joke_evaluation = \"Isn't that joke so funny?!%r\"\n",
    "\n",
    "print(joke_evaluation % hilarious)"
   ]
  },
  {
   "cell_type": "code",
   "execution_count": 5,
   "metadata": {},
   "outputs": [
    {
     "name": "stdout",
     "output_type": "stream",
     "text": [
      "Thi is the left side of...a string with a right side.\n"
     ]
    }
   ],
   "source": [
    "w  = \"Thi is the left side of...\"\n",
    "e = \"a string with a right side.\"\n",
    "print(w + e)"
   ]
  },
  {
   "cell_type": "markdown",
   "metadata": {},
   "source": [
    "# ex7"
   ]
  },
  {
   "cell_type": "code",
   "execution_count": 11,
   "metadata": {},
   "outputs": [
    {
     "name": "stdout",
     "output_type": "stream",
     "text": [
      "Mary had a little lamb.\n",
      "Its fleece was white as snow.\n",
      "And everywhere that Mary went.\n",
      "..........\n",
      "Cheese\n",
      "Burger\n"
     ]
    }
   ],
   "source": [
    "print(\"Mary had a little lamb.\")\n",
    "print(\"Its fleece was white as %s.\" % 'snow')\n",
    "print(\"And everywhere that Mary went.\")\n",
    "print(\".\" * 10)\n",
    "\n",
    "end1 = \"C\"\n",
    "end2 = \"h\"\n",
    "end3 = \"e\"\n",
    "end4 = \"e\"\n",
    "end5 = \"s\"\n",
    "end6 = \"e\"\n",
    "end7 = \"B\"\n",
    "end8 = \"u\"\n",
    "end9 = \"r\"\n",
    "end10 = \"g\"\n",
    "end11 = \"e\"\n",
    "end12 = \"r\"\n",
    "\n",
    "print(end1 + end2 + end3 + end4 + end5 + end6),\n",
    "print(end7 + end8 + end9 + end10 + end11 +end12)"
   ]
  },
  {
   "cell_type": "markdown",
   "metadata": {},
   "source": [
    "# ex8"
   ]
  },
  {
   "cell_type": "code",
   "execution_count": 12,
   "metadata": {},
   "outputs": [
    {
     "name": "stdout",
     "output_type": "stream",
     "text": [
      "1 2 3 4\n",
      "'one' 'two' 'three' 'four'\n",
      "True False False True\n",
      "'%r %r %r %r' '%r %r %r %r' '%r %r %r %r' '%r %r %r %r'\n",
      "'I had this thing.' 'That you could type up right.' \"But it didn't sing.\" 'So I said goodnight.'\n"
     ]
    }
   ],
   "source": [
    "formatter = \"%r %r %r %r\"\n",
    "\n",
    "print(formatter % (1, 2, 3, 4))\n",
    "print(formatter % (\"one\", \"two\", \"three\", \"four\"))\n",
    "print(formatter % (True, False, False, True))\n",
    "print(formatter % (formatter, formatter, formatter, formatter))\n",
    "print(formatter % (\n",
    "\"I had this thing.\", \"That you could type up right.\", \"But it didn't sing.\", \"So I said goodnight.\"))"
   ]
  },
  {
   "cell_type": "markdown",
   "metadata": {},
   "source": [
    "# ex9"
   ]
  },
  {
   "cell_type": "code",
   "execution_count": 14,
   "metadata": {},
   "outputs": [
    {
     "name": "stdout",
     "output_type": "stream",
     "text": [
      "Here are the days:  Mon Tue Wed Thu Fri Sat Sun\n",
      "Here are the months:  Jan\n",
      "Feb\n",
      "Mar\n",
      "Apr\n",
      "May\n",
      "Jun\n",
      "July\n",
      "Aug\n",
      "\n",
      "There's something going on here.\n",
      "With the three double-quotes.\n",
      "We'll be able to type as much as we like.\n",
      "Even 4 lines if we want, or 5, or 6.\n",
      "\n"
     ]
    }
   ],
   "source": [
    "days = \"Mon Tue Wed Thu Fri Sat Sun\"\n",
    "months = \"Jan\\nFeb\\nMar\\nApr\\nMay\\nJun\\nJuly\\nAug\"\n",
    "\n",
    "print(\"Here are the days: \", days)\n",
    "print(\"Here are the months: \", months)\n",
    "\n",
    "print(\"\"\"\n",
    "There's something going on here.\n",
    "With the three double-quotes.\n",
    "We'll be able to type as much as we like.\n",
    "Even 4 lines if we want, or 5, or 6.\n",
    "\"\"\")"
   ]
  },
  {
   "cell_type": "markdown",
   "metadata": {},
   "source": [
    "# ex10\n",
    "> \\n 在该位置加入new line\n",
    "> \\ 可以将难打印的字符放到字符串\n",
    "> \\\\ 会打印出一个\\"
   ]
  },
  {
   "cell_type": "code",
   "execution_count": 17,
   "metadata": {},
   "outputs": [
    {
     "name": "stdout",
     "output_type": "stream",
     "text": [
      "\tI'm tabbed in.\n",
      "I'm split\n",
      "on a line.\n",
      "I'm \\ a \\ cat.\n",
      "\n",
      "I'll do a list:\n",
      "\t* Cat food\n",
      "\t* Fishes\n",
      "\t* Catnip\n",
      "\t* Grass\n",
      "\n"
     ]
    }
   ],
   "source": [
    "tabby_cat = \"\\tI'm tabbed in.\"\n",
    "persian_cat = \"I'm split\\non a line.\"\n",
    "backlash_cat = \"I'm \\\\ a \\\\ cat.\"\n",
    "\n",
    "fat_cat = '''\n",
    "I'll do a list:\n",
    "\\t* Cat food\n",
    "\\t* Fishes\n",
    "\\t* Catnip\\n\\t* Grass\n",
    "'''\n",
    "\n",
    "print(tabby_cat)\n",
    "print(persian_cat)\n",
    "print(backlash_cat)\n",
    "print(fat_cat)"
   ]
  },
  {
   "cell_type": "markdown",
   "metadata": {},
   "source": [
    "# ex11"
   ]
  },
  {
   "cell_type": "code",
   "execution_count": 4,
   "metadata": {},
   "outputs": [
    {
     "name": "stdout",
     "output_type": "stream",
     "text": [
      "How old are you?\n",
      "23\n",
      "How tall are you?\n",
      "177\n",
      "How much do you weigh?\n",
      "140\n",
      "So, you're '23' old, '177' tall and '140' heavy.\n"
     ]
    }
   ],
   "source": [
    "print(\"How old are you?\"),\n",
    "age = input()\n",
    "print(\"How tall are you?\"),\n",
    "height = input()\n",
    "print(\"How much do you weigh?\"),\n",
    "weight = input()\n",
    "\n",
    "print(\"So, you're %r old, %r tall and %r heavy.\" % (age, height, weight))"
   ]
  },
  {
   "cell_type": "markdown",
   "metadata": {},
   "source": [
    "`print` 后面加 ·,·, 这样的话 `print`就不会输出新行符而结束这一行跑到下一行去了"
   ]
  },
  {
   "cell_type": "code",
   "execution_count": 3,
   "metadata": {},
   "outputs": [
    {
     "name": "stdout",
     "output_type": "stream",
     "text": [
      "How old are you?\n",
      "23\n",
      "How tall are you?\n",
      "177\n",
      "How much do you weigh?\n",
      "140\n",
      "So, you're '23' old, '177' tall and '140' heavy.\n"
     ]
    }
   ],
   "source": [
    "print(\"How old are you?\")\n",
    "age = input()\n",
    "print(\"How tall are you?\")\n",
    "height = input()\n",
    "print(\"How much do you weigh?\")\n",
    "weight = input()\n",
    "\n",
    "print(\"So, you're %r old, %r tall and %r heavy.\" % (age, height, weight))"
   ]
  },
  {
   "cell_type": "markdown",
   "metadata": {},
   "source": [
    "# ex12"
   ]
  },
  {
   "cell_type": "code",
   "execution_count": 5,
   "metadata": {},
   "outputs": [
    {
     "name": "stdout",
     "output_type": "stream",
     "text": [
      "Name? Shaoze\n"
     ]
    }
   ],
   "source": [
    "y = input(\"Name? \")"
   ]
  },
  {
   "cell_type": "code",
   "execution_count": 6,
   "metadata": {},
   "outputs": [
    {
     "name": "stdout",
     "output_type": "stream",
     "text": [
      "How old are you? 23\n",
      "How tall are you? 177\n",
      "How much do you weight? 140\n",
      "So, you are 23 old, 177 tall and 140 heavy\n"
     ]
    }
   ],
   "source": [
    "age = input(\"How old are you? \")\n",
    "height = input(\"How tall are you? \")\n",
    "weight = input(\"How much do you weight? \")\n",
    "\n",
    "print(\"So, you are %s old, %s tall and %s heavy\" %(age, height, weight))"
   ]
  },
  {
   "cell_type": "code",
   "execution_count": 7,
   "metadata": {},
   "outputs": [
    {
     "name": "stdout",
     "output_type": "stream",
     "text": [
      "How old are you? 23\n",
      "How tall are you? 177\n",
      "How much do you weight? 140\n",
      "So, you are '23' old, '177' tall and '140' heavy\n"
     ]
    }
   ],
   "source": [
    "age = input(\"How old are you? \")\n",
    "height = input(\"How tall are you? \")\n",
    "weight = input(\"How much do you weight? \")\n",
    "\n",
    "print(\"So, you are %r old, %r tall and %r heavy\" %(age, height, weight))"
   ]
  },
  {
   "cell_type": "markdown",
   "metadata": {},
   "source": [
    "# ex13\n"
   ]
  },
  {
   "cell_type": "code",
   "execution_count": 8,
   "metadata": {},
   "outputs": [
    {
     "ename": "ValueError",
     "evalue": "not enough values to unpack (expected 4, got 3)",
     "output_type": "error",
     "traceback": [
      "\u001b[0;31m---------------------------------------------------------------------------\u001b[0m",
      "\u001b[0;31mValueError\u001b[0m                                Traceback (most recent call last)",
      "\u001b[0;32m<ipython-input-8-7df90e42a609>\u001b[0m in \u001b[0;36m<module>\u001b[0;34m\u001b[0m\n\u001b[1;32m      1\u001b[0m \u001b[0;32mfrom\u001b[0m \u001b[0msys\u001b[0m \u001b[0;32mimport\u001b[0m \u001b[0margv\u001b[0m\u001b[0;34m\u001b[0m\u001b[0m\n\u001b[1;32m      2\u001b[0m \u001b[0;34m\u001b[0m\u001b[0m\n\u001b[0;32m----> 3\u001b[0;31m \u001b[0mscript\u001b[0m\u001b[0;34m,\u001b[0m \u001b[0mfirst\u001b[0m\u001b[0;34m,\u001b[0m \u001b[0msecond\u001b[0m\u001b[0;34m,\u001b[0m \u001b[0mthird\u001b[0m \u001b[0;34m=\u001b[0m \u001b[0margv\u001b[0m\u001b[0;34m\u001b[0m\u001b[0m\n\u001b[0m\u001b[1;32m      4\u001b[0m \u001b[0;34m\u001b[0m\u001b[0m\n\u001b[1;32m      5\u001b[0m \u001b[0mprint\u001b[0m\u001b[0;34m(\u001b[0m\u001b[0;34m\"The script is called: \"\u001b[0m\u001b[0;34m,\u001b[0m \u001b[0mscript\u001b[0m\u001b[0;34m)\u001b[0m\u001b[0;34m\u001b[0m\u001b[0m\n",
      "\u001b[0;31mValueError\u001b[0m: not enough values to unpack (expected 4, got 3)"
     ]
    }
   ],
   "source": [
    "from sys import argv\n",
    "#sys is called module\n",
    "\n",
    "script, first, second, third = argv\n",
    "# 把argv unpack, 我们将每个参数赋予一个变量名:script,first,second,third\n",
    "# 把argv中的东西解包, 将所有的参数依次赋予左边的变量名\n",
    "\n",
    "print(\"The script is called: \", script)\n",
    "print(\"Your first variable is: \", first)\n",
    "print(\"Your second variable is: \", second)\n",
    "print(\"Your third variable is: \", third)"
   ]
  },
  {
   "cell_type": "markdown",
   "metadata": {},
   "source": [
    "# ex14\n",
    "> `from sys import argv` 在运行.py文件时就应该输入argv相应数量的参数"
   ]
  },
  {
   "cell_type": "code",
   "execution_count": 9,
   "metadata": {},
   "outputs": [
    {
     "ename": "ValueError",
     "evalue": "too many values to unpack (expected 2)",
     "output_type": "error",
     "traceback": [
      "\u001b[0;31m---------------------------------------------------------------------------\u001b[0m",
      "\u001b[0;31mValueError\u001b[0m                                Traceback (most recent call last)",
      "\u001b[0;32m<ipython-input-9-87937be5ebdf>\u001b[0m in \u001b[0;36m<module>\u001b[0;34m\u001b[0m\n\u001b[1;32m      1\u001b[0m \u001b[0;32mfrom\u001b[0m \u001b[0msys\u001b[0m \u001b[0;32mimport\u001b[0m \u001b[0margv\u001b[0m\u001b[0;34m\u001b[0m\u001b[0m\n\u001b[1;32m      2\u001b[0m \u001b[0;34m\u001b[0m\u001b[0m\n\u001b[0;32m----> 3\u001b[0;31m \u001b[0mscript\u001b[0m\u001b[0;34m,\u001b[0m \u001b[0muser_name\u001b[0m \u001b[0;34m=\u001b[0m \u001b[0margv\u001b[0m\u001b[0;34m\u001b[0m\u001b[0m\n\u001b[0m\u001b[1;32m      4\u001b[0m \u001b[0;34m\u001b[0m\u001b[0m\n\u001b[1;32m      5\u001b[0m \u001b[0mprompt\u001b[0m \u001b[0;34m=\u001b[0m \u001b[0;34m\">\"\u001b[0m\u001b[0;34m\u001b[0m\u001b[0m\n",
      "\u001b[0;31mValueError\u001b[0m: too many values to unpack (expected 2)"
     ]
    }
   ],
   "source": [
    "from sys import argv\n",
    "\n",
    "script, user_name = argv\n",
    "\n",
    "prompt = \">\"\n",
    "\n",
    "print(\"Hi %s, I'm the %s script\" % (user_name, script))\n",
    "print(\"I'd like to ask you a few questions.\")\n",
    "print(\"Do you like me, %s\" % user_name)\n",
    "likes = input(prompt)\n",
    "\n",
    "print(\"Where do you live, %s\" % user_name)\n",
    "lives = input(prompt)\n",
    "\n",
    "print(\"What kind of computer do you have?\")\n",
    "computer = input(prompt)\n",
    "\n",
    "print(\"\"\"\n",
    "Alright, so you said %r about liking me/\n",
    "You live in %r. Not sure where that is.\n",
    "And you have a %r computer. Nice.value=\n",
    "\"\"\" % (likes, lives, computer))\n"
   ]
  },
  {
   "cell_type": "markdown",
   "metadata": {},
   "source": [
    "# ex16\n",
    "> 关于文件的相关命令\n",
    "1. close - 关闭文件\n",
    "2. read -读取文件\n",
    "3. readline - 读取文本文件的一行\n",
    "4. truncate - 清空文件\n",
    "5. write(stuff) - 将stuff写入文件"
   ]
  },
  {
   "cell_type": "code",
   "execution_count": 1,
   "metadata": {},
   "outputs": [
    {
     "ename": "ValueError",
     "evalue": "too many values to unpack (expected 2)",
     "output_type": "error",
     "traceback": [
      "\u001b[0;31m---------------------------------------------------------------------------\u001b[0m",
      "\u001b[0;31mValueError\u001b[0m                                Traceback (most recent call last)",
      "\u001b[0;32m<ipython-input-1-e52e16a93d6b>\u001b[0m in \u001b[0;36m<module>\u001b[0;34m\u001b[0m\n\u001b[1;32m      1\u001b[0m \u001b[0;32mfrom\u001b[0m \u001b[0msys\u001b[0m \u001b[0;32mimport\u001b[0m \u001b[0margv\u001b[0m\u001b[0;34m\u001b[0m\u001b[0m\n\u001b[1;32m      2\u001b[0m \u001b[0;34m\u001b[0m\u001b[0m\n\u001b[0;32m----> 3\u001b[0;31m \u001b[0mscript\u001b[0m\u001b[0;34m,\u001b[0m \u001b[0mfilename\u001b[0m \u001b[0;34m=\u001b[0m \u001b[0margv\u001b[0m\u001b[0;34m\u001b[0m\u001b[0m\n\u001b[0m\u001b[1;32m      4\u001b[0m \u001b[0;34m\u001b[0m\u001b[0m\n\u001b[1;32m      5\u001b[0m \u001b[0mprint\u001b[0m\u001b[0;34m(\u001b[0m\u001b[0;34m\"We're going to erase %r.\"\u001b[0m \u001b[0;34m%\u001b[0m \u001b[0mfilename\u001b[0m\u001b[0;34m)\u001b[0m\u001b[0;34m\u001b[0m\u001b[0m\n",
      "\u001b[0;31mValueError\u001b[0m: too many values to unpack (expected 2)"
     ]
    }
   ],
   "source": [
    "from sys import argv\n",
    "\n",
    "script, filename = argv\n",
    "\n",
    "print(\"We're going to erase %r.\" % filename)\n",
    "print(\"If you don't want that, hit Ctrl-C(^C).\")\n",
    "print(\"If you do want that, hit return.\")\n",
    "\n",
    "\n",
    "input(\"?\")\n",
    "\n",
    "print(\"Opening the file...\")\n",
    "target = open(filename, 'w')\n",
    "\n",
    "print(\"Truncating the file. Goodbye!\")\n",
    "\n",
    "target.truncate()\n",
    "\n",
    "print(\"Now I'm going to aks you for three lines.\")\n",
    "\n",
    "line1 = input(\"1: \")\n",
    "line2 = input(\"2: \")\n",
    "line3 = input(\"3: \")\n",
    "\n",
    "print(\"I'm going to write these to the file.\")\n",
    "\n",
    "target.write(line1)\n",
    "target.write(\"\\n\")\n",
    "target.write(line2)\n",
    "target.write(\"\\n\")\n",
    "target.write(line3)\n",
    "target.write(\"\\n\")\n",
    "\n",
    "print(\"And finally, we close it.\")\n",
    "target.close()\n"
   ]
  },
  {
   "cell_type": "markdown",
   "metadata": {},
   "source": [
    "# ex17\n",
    "> from os.path import exists: 将文件名字符串作为参数,如果文件存在,则返回True, 否则返回False"
   ]
  },
  {
   "cell_type": "code",
   "execution_count": 2,
   "metadata": {},
   "outputs": [
    {
     "ename": "ValueError",
     "evalue": "too many values to unpack (expected 2)",
     "output_type": "error",
     "traceback": [
      "\u001b[0;31m---------------------------------------------------------------------------\u001b[0m",
      "\u001b[0;31mValueError\u001b[0m                                Traceback (most recent call last)",
      "\u001b[0;32m<ipython-input-2-e52e16a93d6b>\u001b[0m in \u001b[0;36m<module>\u001b[0;34m\u001b[0m\n\u001b[1;32m      1\u001b[0m \u001b[0;32mfrom\u001b[0m \u001b[0msys\u001b[0m \u001b[0;32mimport\u001b[0m \u001b[0margv\u001b[0m\u001b[0;34m\u001b[0m\u001b[0m\n\u001b[1;32m      2\u001b[0m \u001b[0;34m\u001b[0m\u001b[0m\n\u001b[0;32m----> 3\u001b[0;31m \u001b[0mscript\u001b[0m\u001b[0;34m,\u001b[0m \u001b[0mfilename\u001b[0m \u001b[0;34m=\u001b[0m \u001b[0margv\u001b[0m\u001b[0;34m\u001b[0m\u001b[0m\n\u001b[0m\u001b[1;32m      4\u001b[0m \u001b[0;34m\u001b[0m\u001b[0m\n\u001b[1;32m      5\u001b[0m \u001b[0mprint\u001b[0m\u001b[0;34m(\u001b[0m\u001b[0;34m\"We're going to erase %r.\"\u001b[0m \u001b[0;34m%\u001b[0m \u001b[0mfilename\u001b[0m\u001b[0;34m)\u001b[0m\u001b[0;34m\u001b[0m\u001b[0m\n",
      "\u001b[0;31mValueError\u001b[0m: too many values to unpack (expected 2)"
     ]
    }
   ],
   "source": [
    "from sys import argv\n",
    "from os.path import exists\n",
    "\n",
    "a, f1, f2 = argv\n",
    "\n",
    "print(\"Copying from %s to %s\" % (f1, f2))\n",
    "\n",
    "input_1 = open(f1)\n",
    "indata = input_1.read()\n",
    "\n",
    "print(\"The input file is %d bytes long.\" % len(indata))\n",
    "\n",
    "print(\"Does the output file exist? %r\" % exists(f2))\n",
    "print(\"Ready, hit RETURN to continue, Ctrl-C to abort.\")\n",
    "input()\n",
    "\n",
    "output = open(f2, \"w\")\n",
    "output.write(indata)\n",
    "\n",
    "print(\"Alright, all done.\")\n",
    "output.close()\n",
    "input_1.close()\n"
   ]
  },
  {
   "cell_type": "markdown",
   "metadata": {},
   "source": [
    "# ex18"
   ]
  },
  {
   "cell_type": "code",
   "execution_count": 4,
   "metadata": {},
   "outputs": [
    {
     "name": "stdout",
     "output_type": "stream",
     "text": [
      "arg1: 'Zed', arg2: 'Shaw'\n",
      "arg1: 'Zed', arg2: 'Shaw'\n",
      "arg1: 'First!'\n",
      "I got nothing.\n"
     ]
    }
   ],
   "source": [
    "# 告诉函数我们需要*args(asterisk args),必须放在()中才能正常工作\n",
    "def print_two(*args):\n",
    "    #函数解包\n",
    "    arg1, arg2 = args\n",
    "    print(\"arg1: %r, arg2: %r\" % (arg1, arg2))\n",
    "    \n",
    "# 在 Python 函数 中我们可以跳过整个参数解包的过程，\n",
    "# 直接使用 () 里边的名称作为变量名。这 就是 print_two_again 实现的功能。    \n",
    "def print_2_again(arg1, arg2):\n",
    "    print(\"arg1: %r, arg2: %r\" % (arg1, arg2))\n",
    "    \n",
    "def print_one(arg1):\n",
    "    print(\"arg1: %r\" % arg1)\n",
    "    \n",
    "def print_none():\n",
    "    print(\"I got nothing.\")\n",
    "    \n",
    "print_two(\"Zed\", \"Shaw\")\n",
    "print_two_again(\"Zed\", \"Shaw\")\n",
    "print_one(\"First!\")\n",
    "print_none()"
   ]
  },
  {
   "cell_type": "markdown",
   "metadata": {},
   "source": [
    "# ex19"
   ]
  },
  {
   "cell_type": "code",
   "execution_count": 5,
   "metadata": {},
   "outputs": [
    {
     "name": "stdout",
     "output_type": "stream",
     "text": [
      "We can just give the function numbers directly: \n",
      "You have 20 cheese!\n",
      "You have 30 boxes of crackers!\n",
      "Man that's enought for a party!\n",
      "Get a blanket.\n",
      "\n",
      "Or, we can use variables from our script: \n",
      "You have 10 cheese!\n",
      "You have 50 boxes of crackers!\n",
      "Man that's enought for a party!\n",
      "Get a blanket.\n",
      "\n",
      "We can even do math inside too: \n",
      "You have 30 cheese!\n",
      "You have 11 boxes of crackers!\n",
      "Man that's enought for a party!\n",
      "Get a blanket.\n",
      "\n",
      "And we can combine the two, variables and math: \n",
      "You have 110 cheese!\n",
      "You have 1050 boxes of crackers!\n",
      "Man that's enought for a party!\n",
      "Get a blanket.\n",
      "\n"
     ]
    }
   ],
   "source": [
    "def cheese_and_crackers(cheese_count, boxes_of_crackers):\n",
    "    print(\"You have %d cheese!\" % cheese_count)\n",
    "    print(\"You have %d boxes of crackers!\" % boxes_of_crackers)\n",
    "    print(\"Man that's enought for a party!\")\n",
    "    print(\"Get a blanket.\\n\")\n",
    "    \n",
    "print(\"We can just give the function numbers directly: \")\n",
    "cheese_and_crackers(20, 30)\n",
    "\n",
    "\n",
    "print(\"Or, we can use variables from our script: \")\n",
    "amount_of_cheese = 10\n",
    "amount_of_crackers = 50\n",
    "\n",
    "cheese_and_crackers(amount_of_cheese, amount_of_crackers)\n",
    "\n",
    "print(\"We can even do math inside too: \")\n",
    "cheese_and_crackers(10+20, 5+6)\n",
    "\n",
    "\n",
    "print(\"And we can combine the two, variables and math: \")\n",
    "\n",
    "cheese_and_crackers(amount_of_cheese + 100, amount_of_crackers + 1000)"
   ]
  },
  {
   "cell_type": "markdown",
   "metadata": {},
   "source": [
    "# ex20"
   ]
  },
  {
   "cell_type": "code",
   "execution_count": 6,
   "metadata": {},
   "outputs": [
    {
     "ename": "ValueError",
     "evalue": "too many values to unpack (expected 2)",
     "output_type": "error",
     "traceback": [
      "\u001b[0;31m---------------------------------------------------------------------------\u001b[0m",
      "\u001b[0;31mValueError\u001b[0m                                Traceback (most recent call last)",
      "\u001b[0;32m<ipython-input-6-c53e99b58fcc>\u001b[0m in \u001b[0;36m<module>\u001b[0;34m\u001b[0m\n\u001b[1;32m      1\u001b[0m \u001b[0;32mfrom\u001b[0m \u001b[0msys\u001b[0m \u001b[0;32mimport\u001b[0m \u001b[0margv\u001b[0m\u001b[0;34m\u001b[0m\u001b[0m\n\u001b[1;32m      2\u001b[0m \u001b[0;34m\u001b[0m\u001b[0m\n\u001b[0;32m----> 3\u001b[0;31m \u001b[0mscript\u001b[0m\u001b[0;34m,\u001b[0m \u001b[0minput_file\u001b[0m \u001b[0;34m=\u001b[0m \u001b[0margv\u001b[0m\u001b[0;34m\u001b[0m\u001b[0m\n\u001b[0m\u001b[1;32m      4\u001b[0m \u001b[0;34m\u001b[0m\u001b[0m\n\u001b[1;32m      5\u001b[0m \u001b[0;32mdef\u001b[0m \u001b[0mprint_all\u001b[0m\u001b[0;34m(\u001b[0m\u001b[0mf\u001b[0m\u001b[0;34m)\u001b[0m\u001b[0;34m:\u001b[0m\u001b[0;34m\u001b[0m\u001b[0m\n",
      "\u001b[0;31mValueError\u001b[0m: too many values to unpack (expected 2)"
     ]
    }
   ],
   "source": [
    "from sys import argv\n",
    "\n",
    "script, input_file = argv\n",
    "\n",
    "def print_all(f):\n",
    "    print(f.read())\n",
    "\n",
    "def rewind(f):\n",
    "    f.seek(0)\n",
    "\n",
    "# Creates a function that accepts an integer (in this case from 'current_line') \n",
    "# denoting the line to read and then reads that line with the 'readline()' \n",
    "# function.\n",
    "# NOTE - readline() reads a single line up to the \\n character but leaves the\n",
    "# \\n character at the end of the line, so this automatically advances the file\n",
    "# position by 1 line for every time the function is called and leaves a blank \n",
    "# newline in place. That why there's a line break in the output code.\n",
    "# That's how this script is reading, printing and advancing each line in turn.\n",
    "def print_a_line(line_count, f):\n",
    "    print(line_count, f.readline())\n",
    "\n",
    "current_file = open(input_file)\n",
    "\n",
    "print(\"First, let's print the whole file:\\n\")\n",
    "\n",
    "print_all(current_file)\n",
    "\n",
    "print(\"Now, let's rewind, kind of like a tape.\")\n",
    "rewind(current_file)\n",
    "\n",
    "print(\"Let's print three lines:\")\n",
    "\n",
    "current_line = 1\n",
    "# 这里的current_line纯粹是为了输出行数, 而不是因为它才会输出对应行的内容\n",
    "# readline读完一行就会停止,并且保留行尾的 “\\n”\n",
    "print_a_line(current_line, current_file)\n",
    "#print(current_file.read())\n",
    "\n",
    "current_line = current_line + 1\n",
    "print_a_line(current_line, current_file)\n",
    "#print(current_file.read())\n",
    "current_line = current_line + 1\n",
    "#print_a_line(current_line, current_file)\n"
   ]
  },
  {
   "cell_type": "markdown",
   "metadata": {},
   "source": [
    "# ex21\n"
   ]
  },
  {
   "cell_type": "code",
   "execution_count": 3,
   "metadata": {},
   "outputs": [
    {
     "name": "stdout",
     "output_type": "stream",
     "text": [
      "Let's do some math with just functions!\n",
      "Adding 30 + 5\n",
      "Subtracting 78 - 4\n",
      "Multplying 90 * 2\n",
      "Dividing 100 / 2\n",
      "Age 35, height 74, weight 180, iq 50\n",
      "Here is a puzzle.\n",
      "Dividing 50 / 2\n",
      "Multplying 180 * 25\n",
      "Subtracting 74 - 4500\n",
      "Adding 35 + -4426\n",
      "That becomes:  -4391.0 Can you do it by hand?\n"
     ]
    }
   ],
   "source": [
    "def add(a, b):\n",
    "    print(\"Adding %d + %d\" % (a, b))\n",
    "    return(a+b)\n",
    "# 将a和b加起来,再把结果返回\n",
    "# python将两个数字相加,然后当函数结束的时候,他就可以将a+b的结果赋予一个变量\n",
    "\n",
    "def subtract(a, b):\n",
    "    print(\"Subtracting %d - %d\" % (a, b))\n",
    "    return a - b\n",
    "\n",
    "def multiple(a,b):\n",
    "    print(\"Multplying %d * %d\" % (a, b))\n",
    "    return a * b\n",
    "\n",
    "def divide(a, b):\n",
    "    print(\"Dividing %d / %d\" % (a, b))\n",
    "    return a / b\n",
    "\n",
    "print(\"Let's do some math with just functions!\")\n",
    "\n",
    "age = add(30, 5)\n",
    "height = subtract(78, 4)\n",
    "weight = multiple(90, 2)\n",
    "iq = divide(100, 2)\n",
    "\n",
    "print(\"Age %d, height %d, weight %d, iq %d\" %(age, height, weight, iq))\n",
    "\n",
    "print(\"Here is a puzzle.\")\n",
    "\n",
    "what = add(age, subtract(height, multiple(weight, divide(iq, 2))))\n",
    "\n",
    "print(\"That becomes: \", what, \"Can you do it by hand?\")\n"
   ]
  },
  {
   "cell_type": "markdown",
   "metadata": {},
   "source": [
    "# ex24"
   ]
  },
  {
   "cell_type": "code",
   "execution_count": 8,
   "metadata": {},
   "outputs": [
    {
     "name": "stdout",
     "output_type": "stream",
     "text": [
      "Let's practice everything.\n",
      "You'd need to know ' about escapes with \\ that do \n",
      " newlines and \t tabs\n",
      "-------------\n",
      "\n",
      "\t The lovely world\n",
      "with logic so firmly planted\n",
      "cannot discern \n",
      " the needs of love\n",
      "nor comprehend passion from intuition\n",
      "and requires an explanation\n",
      "\n",
      "\t where there is none\n",
      "\n",
      "-------------\n",
      "This should be five: 5\n",
      "With a starting point of 10000\n",
      "We'd have 5000000 beans, 5000 jars, and 50 crates\n",
      "We can also do that this way: \n",
      "We'd have 500000 beans, 500 jars, and 5 crates.\n"
     ]
    }
   ],
   "source": [
    "print(\"Let's practice everything.\")\n",
    "\n",
    "print(\"You\\'d need to know \\' about escapes with \\\\ that do \\n newlines and \\t tabs\")\n",
    "\n",
    "poem = \"\"\"\n",
    "\\t The lovely world\n",
    "with logic so firmly planted\n",
    "cannot discern \\n the needs of love\n",
    "nor comprehend passion from intuition\n",
    "and requires an explanation\n",
    "\\n\\t where there is none\n",
    "\"\"\"\n",
    "\n",
    "print(\"-------------\")\n",
    "print(poem)\n",
    "print(\"-------------\")\n",
    "\n",
    "five = 10 - 2 + 3 - 6\n",
    "print(\"This should be five: %s\" % five)\n",
    "\n",
    "def secret_fomula(started):\n",
    "    jelly_beans = started * 500\n",
    "    jars = jelly_beans / 1000\n",
    "    crates = jars / 100\n",
    "    return jelly_beans, jars, crates\n",
    "\n",
    "start_point = 10000\n",
    "beans, jars, crates = secret_fomula(start_point)\n",
    "# return 对应赋值\n",
    "print(\"With a starting point of %d\" % start_point)\n",
    "print(\"We'd have %d beans, %d jars, and %d crates\" % (beans, jars, crates))\n",
    "\n",
    "start_point = start_point / 10\n",
    "\n",
    "print(\"We can also do that this way: \")\n",
    "print(\"We'd have %d beans, %d jars, and %d crates.\" %secret_fomula(start_point))"
   ]
  },
  {
   "cell_type": "code",
   "execution_count": null,
   "metadata": {},
   "outputs": [],
   "source": [
    "def break_words(stuff):\n",
    "    words = stuff.splits(' ')\n",
    "    return words\n",
    "\n",
    "def sort_words(words):\n",
    "    return sorted(words)\n",
    "\n",
    "def print_first_word(words):\n",
    "    word = words.pop(0)\n",
    "    print(word)\n",
    "    \n",
    "def print_last_word(words):\n",
    "    word = words.pop(-1)\n",
    "    print(word)\n",
    "    \n",
    "def sort_sentence(sentence):\n",
    "    words = break_words(sentence)\n",
    "    return sort_words(words)\n",
    "\n",
    "def print_first_and_last(sentence):\n",
    "    words = break_words(sentence)\n",
    "    print_first_word(words)\n",
    "    print_last_word(words)\n",
    "    \n",
    "def print_first_and_last_sorted(sentence):\n",
    "    words = sort_sentence(sentence)\n",
    "    print_first_word(words)\n",
    "    print_last_word(words)"
   ]
  },
  {
   "cell_type": "markdown",
   "metadata": {},
   "source": [
    "# ex27\n",
    "> 逻辑关系"
   ]
  },
  {
   "cell_type": "markdown",
   "metadata": {},
   "source": [
    "# ex28\n",
    "> Boolean"
   ]
  },
  {
   "cell_type": "code",
   "execution_count": 2,
   "metadata": {},
   "outputs": [
    {
     "data": {
      "text/plain": [
       "True"
      ]
     },
     "execution_count": 2,
     "metadata": {},
     "output_type": "execute_result"
    }
   ],
   "source": [
    "True and True\n",
    "# True"
   ]
  },
  {
   "cell_type": "code",
   "execution_count": 3,
   "metadata": {},
   "outputs": [
    {
     "data": {
      "text/plain": [
       "False"
      ]
     },
     "execution_count": 3,
     "metadata": {},
     "output_type": "execute_result"
    }
   ],
   "source": [
    "\n",
    "1 == 1 and 2 ==1\n",
    "# False\n"
   ]
  },
  {
   "cell_type": "code",
   "execution_count": 4,
   "metadata": {},
   "outputs": [
    {
     "data": {
      "text/plain": [
       "False"
      ]
     },
     "execution_count": 4,
     "metadata": {},
     "output_type": "execute_result"
    }
   ],
   "source": [
    "\n",
    "False and 0 != 0\n",
    "# False\n",
    "\n"
   ]
  },
  {
   "cell_type": "code",
   "execution_count": 5,
   "metadata": {},
   "outputs": [
    {
     "data": {
      "text/plain": [
       "True"
      ]
     },
     "execution_count": 5,
     "metadata": {},
     "output_type": "execute_result"
    }
   ],
   "source": [
    "\n",
    "True or 1 == 1\n",
    "# True\n",
    "\n"
   ]
  },
  {
   "cell_type": "code",
   "execution_count": 6,
   "metadata": {},
   "outputs": [
    {
     "data": {
      "text/plain": [
       "True"
      ]
     },
     "execution_count": 6,
     "metadata": {},
     "output_type": "execute_result"
    }
   ],
   "source": [
    "\"test\" != \"testing\"\n",
    "# True\n"
   ]
  },
  {
   "cell_type": "code",
   "execution_count": 7,
   "metadata": {},
   "outputs": [
    {
     "data": {
      "text/plain": [
       "False"
      ]
     },
     "execution_count": 7,
     "metadata": {},
     "output_type": "execute_result"
    }
   ],
   "source": [
    "\"test\" == 1\n",
    "# False\n"
   ]
  },
  {
   "cell_type": "code",
   "execution_count": 8,
   "metadata": {},
   "outputs": [
    {
     "data": {
      "text/plain": [
       "True"
      ]
     },
     "execution_count": 8,
     "metadata": {},
     "output_type": "execute_result"
    }
   ],
   "source": [
    "not(True and False)\n",
    "# Tru\n"
   ]
  },
  {
   "cell_type": "code",
   "execution_count": 9,
   "metadata": {},
   "outputs": [
    {
     "data": {
      "text/plain": [
       "False"
      ]
     },
     "execution_count": 9,
     "metadata": {},
     "output_type": "execute_result"
    }
   ],
   "source": [
    "not(1==1 and 0 != 1)\n",
    "# False\n"
   ]
  },
  {
   "cell_type": "code",
   "execution_count": 10,
   "metadata": {},
   "outputs": [
    {
     "data": {
      "text/plain": [
       "False"
      ]
     },
     "execution_count": 10,
     "metadata": {},
     "output_type": "execute_result"
    }
   ],
   "source": [
    "not(10 == 1 or 1000 == 1000)\n",
    "# False\n"
   ]
  },
  {
   "cell_type": "code",
   "execution_count": 11,
   "metadata": {},
   "outputs": [
    {
     "data": {
      "text/plain": [
       "False"
      ]
     },
     "execution_count": 11,
     "metadata": {},
     "output_type": "execute_result"
    }
   ],
   "source": [
    "not(1 != 10 or 3 == 4)\n",
    "# False\n"
   ]
  },
  {
   "cell_type": "code",
   "execution_count": 12,
   "metadata": {},
   "outputs": [
    {
     "data": {
      "text/plain": [
       "True"
      ]
     },
     "execution_count": 12,
     "metadata": {},
     "output_type": "execute_result"
    }
   ],
   "source": [
    "not(\"testing\" == \"testing\" and \"Zed\" == \"Cool Guy\")\n",
    "# True\n"
   ]
  },
  {
   "cell_type": "code",
   "execution_count": 13,
   "metadata": {},
   "outputs": [
    {
     "data": {
      "text/plain": [
       "True"
      ]
     },
     "execution_count": 13,
     "metadata": {},
     "output_type": "execute_result"
    }
   ],
   "source": [
    "1 == 1 and not (\"testing\" == 1 or 1 == 0)\n",
    "# True\n"
   ]
  },
  {
   "cell_type": "code",
   "execution_count": 14,
   "metadata": {},
   "outputs": [
    {
     "data": {
      "text/plain": [
       "False"
      ]
     },
     "execution_count": 14,
     "metadata": {},
     "output_type": "execute_result"
    }
   ],
   "source": [
    "\"chunky\" == \"bacon\" and not (3 == 4 or 3==3)\n",
    "# False\n"
   ]
  },
  {
   "cell_type": "code",
   "execution_count": 15,
   "metadata": {},
   "outputs": [
    {
     "data": {
      "text/plain": [
       "False"
      ]
     },
     "execution_count": 15,
     "metadata": {},
     "output_type": "execute_result"
    }
   ],
   "source": [
    "3 == 3 and not (\"testing\" == \"testing\" or \"Python\" == \"Fun\")\n",
    "# False"
   ]
  },
  {
   "cell_type": "markdown",
   "metadata": {},
   "source": [
    "# ex29\n",
    "> if"
   ]
  },
  {
   "cell_type": "code",
   "execution_count": 17,
   "metadata": {},
   "outputs": [
    {
     "name": "stdout",
     "output_type": "stream",
     "text": [
      "Too many cats! The world is doomed!\n",
      "The world is dry!\n",
      "People are greater than or equal to dogs.\n",
      "People are less than or equal to dogs.\n",
      "People are dogs.\n"
     ]
    }
   ],
   "source": [
    "people = 20\n",
    "cats = 30\n",
    "dogs = 15\n",
    "\n",
    "if people < cats:\n",
    "    print(\"Too many cats! The world is doomed!\")\n",
    "\n",
    "if people > cats:\n",
    "    print(\"Not many cats! The world is saved!\")\n",
    "    \n",
    "if people < dogs:\n",
    "    print(\"The world is drooled on!\")\n",
    "    \n",
    "if people > dogs: \n",
    "    print(\"The world is dry!\")\n",
    "    \n",
    "dogs += 5\n",
    "\n",
    "if people >= dogs:\n",
    "    print(\"People are greater than or equal to dogs.\")\n",
    "    \n",
    "if people <= dogs:\n",
    "    print(\"People are less than or equal to dogs.\")\n",
    "\n",
    "if people == dogs:\n",
    "    print(\"People are dogs.\")"
   ]
  },
  {
   "cell_type": "markdown",
   "metadata": {},
   "source": [
    "# ex30"
   ]
  },
  {
   "cell_type": "code",
   "execution_count": 18,
   "metadata": {},
   "outputs": [
    {
     "name": "stdout",
     "output_type": "stream",
     "text": [
      "We should take the cars.\n",
      "Maybe we could take the buses.\n",
      "Alright, let's just take the buses.\n"
     ]
    }
   ],
   "source": [
    "people = 30\n",
    "cars = 40\n",
    "buses = 15\n",
    "\n",
    "if cars > people:\n",
    "    print(\"We should take the cars.\")\n",
    "elif cars < people:\n",
    "    print(\"we should not take the cars.\")\n",
    "else:\n",
    "    print(\"We can't decide\")\n",
    "    \n",
    "if buses > cars:\n",
    "    print(\"That's too many buses.\")\n",
    "elif buses < cars:\n",
    "    print(\"Maybe we could take the buses.\")\n",
    "else:\n",
    "    print(\"We still can't decide.\")\n",
    "\n",
    "if people > buses:\n",
    "    print(\"Alright, let's just take the buses.\")\n",
    "else:\n",
    "    print(\"Fine, let's stay home then.\")"
   ]
  },
  {
   "cell_type": "markdown",
   "metadata": {},
   "source": [
    "# ex31\n",
    ">  这里的重点是你可以在“if 语句”内部再放一个“if 语句”。这是一个很强大的功能， 可以用来创建嵌套(nested)的决定，其中的一个分支将引向另一个分支的子分支"
   ]
  },
  {
   "cell_type": "code",
   "execution_count": 21,
   "metadata": {},
   "outputs": [
    {
     "name": "stdout",
     "output_type": "stream",
     "text": [
      "You enter a dark room with two doors. Do you go through door #1 or door #2?\n",
      "> 1\n",
      "There's a giant bear here eating a cheese cake. What do you do?\n",
      "1. Take the cake.\n",
      "2. Scream at the bear.\n",
      "> 3\n",
      "Well, doing 3 is probably better, Bear runs away\n"
     ]
    }
   ],
   "source": [
    "print(\"You enter a dark room with two doors. Do you go through door #1 or door #2?\")\n",
    "\n",
    "door = input(\"> \")\n",
    "\n",
    "if door == \"1\":\n",
    "    print(\"There's a giant bear here eating a cheese cake. What do you do?\")\n",
    "    print(\"1. Take the cake.\")\n",
    "    print(\"2. Scream at the bear.\")\n",
    "    \n",
    "    bear = input(\"> \")\n",
    "    \n",
    "    if bear == \"1\":\n",
    "        print(\"The bear eats your face off. Good job!\")\n",
    "    elif bear == \"2\":\n",
    "        print(\"The bear eats your legs off. Good job!\")\n",
    "    else:\n",
    "        print(\"Well, doing %s is probably better, Bear runs away\" % bear)\n",
    "elif door == \"2\":\n",
    "    print(\"You stare into the endless abyss at Cthulhu's retina.\")\n",
    "    print(\"1. Blueberries.\")\n",
    "    print(\"2. Yellow jacket clothespins.\")\n",
    "    print(\"3. Understanding revolvers yelling melodies.\")\n",
    "    \n",
    "    insanity = input(\"> \")\n",
    "    \n",
    "    if insanity == \"1\" or insanity == \"2\":\n",
    "        print(\"Your body survives powered by a mind of jello. Good job!\")\n",
    "    else:\n",
    "        print(\"The insanity rots your eyes into a pool of muck. Good job.\")\n",
    "else:\n",
    "    print(\"You stumble around and fall on a knife and die. Good job!\")\n",
    "            \n",
    "        \n"
   ]
  },
  {
   "cell_type": "markdown",
   "metadata": {},
   "source": [
    "# ex32"
   ]
  },
  {
   "cell_type": "code",
   "execution_count": 1,
   "metadata": {},
   "outputs": [],
   "source": [
    "hairs = ['brown', 'blond', 'red']\n",
    "eyes = ['brown', 'blue', 'green']\n",
    "weights = [1, 2, 3, 4]\n",
    "\n"
   ]
  },
  {
   "cell_type": "code",
   "execution_count": 2,
   "metadata": {},
   "outputs": [
    {
     "name": "stdout",
     "output_type": "stream",
     "text": [
      "This is count 1\n",
      "This is count 2\n",
      "This is count 3\n",
      "This is count 4\n",
      "This is count 5\n",
      "A fruit of type apples\n",
      "A fruit of type oragnes\n",
      "A fruit of type pears\n",
      "A fruit of type apricots\n"
     ]
    }
   ],
   "source": [
    "the_count = [1, 2, 3, 4, 5]\n",
    "fruits = ['apples', 'oragnes', 'pears', 'apricots']\n",
    "change = [1, 'pennies', 2, 'dimes', 3, 'quarters']\n",
    "\n",
    "for number in the_count:\n",
    "    print(\"This is count %d\" % number)\n",
    "\n",
    "for fruit in fruits:\n",
    "    print(\"A fruit of type %s\" % fruit )"
   ]
  },
  {
   "cell_type": "code",
   "execution_count": 3,
   "metadata": {
    "scrolled": true
   },
   "outputs": [
    {
     "name": "stdout",
     "output_type": "stream",
     "text": [
      "I got 1\n",
      "I got 'pennies'\n",
      "I got 2\n",
      "I got 'dimes'\n",
      "I got 3\n",
      "I got 'quarters'\n"
     ]
    }
   ],
   "source": [
    "# here we use %r since we don't know what's in it.\n",
    "for i in change:\n",
    "    print(\"I got %r\" % i)"
   ]
  },
  {
   "cell_type": "code",
   "execution_count": 4,
   "metadata": {},
   "outputs": [
    {
     "name": "stdout",
     "output_type": "stream",
     "text": [
      "Adding 0 to the list.\n",
      "Adding 1 to the list.\n",
      "Adding 2 to the list.\n",
      "Adding 3 to the list.\n",
      "Adding 4 to the list.\n",
      "Adding 5 to the list.\n",
      "Element 0 was 0\n",
      "Element 1 was 1\n",
      "Element 2 was 2\n",
      "Element 3 was 3\n",
      "Element 4 was 4\n",
      "Element 5 was 5\n"
     ]
    }
   ],
   "source": [
    "elements = []\n",
    "\n",
    "for i in range(0, 6):\n",
    "    print(\"Adding %d to the list.\" % i)\n",
    "    elements.append(i)\n",
    "    \n",
    "for i in elements:\n",
    "    print(\"Element %d was %d\" % (i, i))\n",
    "    "
   ]
  },
  {
   "cell_type": "markdown",
   "metadata": {},
   "source": [
    "# ex33\n",
    "> while循环下面的代码片段不是只被执行一次,而是执行完后再调回while所在位置,如此重复进行,直到while表达式为False为止"
   ]
  },
  {
   "cell_type": "code",
   "execution_count": 5,
   "metadata": {},
   "outputs": [
    {
     "name": "stdout",
     "output_type": "stream",
     "text": [
      "At the top i is 0\n",
      "Numebrs now: [0]\n",
      "At the bottom i is 1\n",
      "At the top i is 1\n",
      "Numebrs now: [0, 1]\n",
      "At the bottom i is 2\n",
      "At the top i is 2\n",
      "Numebrs now: [0, 1, 2]\n",
      "At the bottom i is 3\n",
      "At the top i is 3\n",
      "Numebrs now: [0, 1, 2, 3]\n",
      "At the bottom i is 4\n",
      "At the top i is 4\n",
      "Numebrs now: [0, 1, 2, 3, 4]\n",
      "At the bottom i is 5\n",
      "At the top i is 5\n",
      "Numebrs now: [0, 1, 2, 3, 4, 5]\n",
      "At the bottom i is 6\n",
      "The numebrs: \n",
      "0\n",
      "1\n",
      "2\n",
      "3\n",
      "4\n",
      "5\n"
     ]
    }
   ],
   "source": [
    "i = 0\n",
    "numbers = []\n",
    "\n",
    "while i < 6:\n",
    "    print(\"At the top i is %d\" % i)\n",
    "    numbers.append(i)\n",
    "    i = i + 1\n",
    "    print(\"Numebrs now:\", numbers)\n",
    "    print(\"At the bottom i is %d\" % i)\n",
    "    \n",
    "print(\"The numebrs: \")\n",
    "for l in numbers:\n",
    "    print(l)"
   ]
  },
  {
   "cell_type": "markdown",
   "metadata": {},
   "source": [
    "# ex34"
   ]
  },
  {
   "cell_type": "code",
   "execution_count": null,
   "metadata": {},
   "outputs": [],
   "source": [
    "from sys import exit\n",
    "\n",
    "def gold_room():\n",
    "    print(\"This room is full of gold. How much do you take?\")\n",
    "\n",
    "\n",
    "    next = input(\"> \")\n",
    "    if \"0\" in next or \"1\" in next:\n",
    "        how_much = int(next)\n",
    "    else:\n",
    "        dead(\"Man, learn to type a number.\")\n",
    "\n",
    "\n",
    "    if how_much < 50:\n",
    "        print(\"Nice, you're not greedy. You win!\")\n",
    "        exit(0)\n",
    "    else:\n",
    "        dead(\"you greedy bastard!\")\n",
    "\n",
    "def bear_room():\n",
    "    print(\"There's a bear here\")\n",
    "    print(\"The bear has a bunch of honey.\")\n",
    "    print(\"The fat bear is in front of another door.\")\n",
    "    print(\"How are you going to move the bear?\")\n",
    "\n",
    "    bear_moved = False\n",
    "\n",
    "    while True:\n",
    "        next = input(\"> \")\n",
    "\n",
    "        if next == \"take honey\":\n",
    "            dead(\"The bear looks at you then slaps your face off.\")\n",
    "        elif next == \"taunt bear\" and not bear_moved:\n",
    "            print(\"The bear has moved from the door. You can go throught it now.\")\n",
    "            bear_moved = True\n",
    "        elif next == \"taunt bear\" and bear_moved:\n",
    "            dead(\"The bear gets pissed off and chews your leg off.\")\n",
    "        elif next == \"open door\" and bear_moved:\n",
    "            gold_room()\n",
    "        else:\n",
    "            print(\"I got no idea what that means.\")\n",
    "\n",
    "def cthulhu_room():\n",
    "    print(\"Here you see the great evil Cthulhu.\")\n",
    "    print(\"He, it, whatever stares at you and you go insane.\")\n",
    "    print(\"Do you flee for your life or eat you head?\")\n",
    "\n",
    "    next = input(\"> \")\n",
    "\n",
    "    if \"flee\" in next:\n",
    "        start()\n",
    "    elif \"head\" in next:\n",
    "        dead(\"Well that was tasty!\")\n",
    "    else:\n",
    "        cthulhu_room()\n",
    "\n",
    "def dead(why):\n",
    "    print(why, \"good job!\")\n",
    "    exit(0)\n",
    "\n",
    "def start():\n",
    "    print(\"You are in a dark room.\")\n",
    "    print(\"There is a door to your right and left\")\n",
    "    print(\"Which one do you take?\")\n",
    "\n",
    "    next = input(\"> \")\n",
    "    if next == \"left\":\n",
    "        bear_room()\n",
    "    elif next == \"right\":\n",
    "        cthulhu_room()\n",
    "    else:\n",
    "        dead(\"You stumble around the room until you starve.\")\n",
    "\n",
    "start()\n"
   ]
  },
  {
   "cell_type": "markdown",
   "metadata": {},
   "source": [
    "# ex35"
   ]
  },
  {
   "cell_type": "code",
   "execution_count": null,
   "metadata": {},
   "outputs": [],
   "source": [
    "from sys import exit\n",
    "\n",
    "def gold_room():\n",
    "    print(\"This room is full of gold. How much do you take?\")\n",
    "\n",
    "\n",
    "    next = input(\"> \")\n",
    "    if \"0\" in next or \"1\" in next:\n",
    "        how_much = int(next)\n",
    "    else:\n",
    "        dead(\"Man, learn to type a number.\")\n",
    "\n",
    "\n",
    "    if how_much < 50:\n",
    "        print(\"Nice, you're not greedy. You win!\")\n",
    "        exit(0)\n",
    "    else:\n",
    "        dead(\"you greedy bastard!\")\n",
    "\n",
    "def bear_room():\n",
    "    print(\"There's a bear here\")\n",
    "    print(\"The bear has a bunch of honey.\")\n",
    "    print(\"The fat bear is in front of another door.\")\n",
    "    print(\"How are you going to move the bear?\")\n",
    "\n",
    "    bear_moved = False\n",
    "\n",
    "    while True:\n",
    "        next = input(\"> \")\n",
    "\n",
    "        if next == \"take honey\":\n",
    "            dead(\"The bear looks at you then slaps your face off.\")\n",
    "        elif next == \"taunt bear\" and not bear_moved:\n",
    "            print(\"The bear has moved from the door. You can go throught it now.\")\n",
    "            bear_moved = True\n",
    "        elif next == \"taunt bear\" and bear_moved:\n",
    "            dead(\"The bear gets pissed off and chews your leg off.\")\n",
    "        elif next == \"open door\" and bear_moved:\n",
    "            gold_room()\n",
    "        else:\n",
    "            print(\"I got no idea what that means.\")\n",
    "\n",
    "def cthulhu_room():\n",
    "    print(\"Here you see the great evil Cthulhu.\")\n",
    "    print(\"He, it, whatever stares at you and you go insane.\")\n",
    "    print(\"Do you flee for your life or eat you head?\")\n",
    "\n",
    "    next = input(\"> \")\n",
    "\n",
    "    if \"flee\" in next:\n",
    "        start()\n",
    "    elif \"head\" in next:\n",
    "        dead(\"Well that was tasty!\")\n",
    "    else:\n",
    "        cthulhu_room()\n",
    "\n",
    "def dead(why):\n",
    "    print(why, \"good job!\")\n",
    "    exit(0)\n",
    "\n",
    "def start():\n",
    "    print(\"You are in a dark room.\")\n",
    "    print(\"There is a door to your right and left\")\n",
    "    print(\"Which one do you take?\")\n",
    "\n",
    "    next = input(\"> \")\n",
    "    if next == \"left\":\n",
    "        bear_room()\n",
    "    elif next == \"right\":\n",
    "        cthulhu_room()\n",
    "    else:\n",
    "        dead(\"You stumble around the room until you starve.\")\n",
    "\n",
    "start()\n"
   ]
  },
  {
   "cell_type": "markdown",
   "metadata": {},
   "source": [
    "# ex36\n",
    "\n",
    "## if 语句的规则:\n",
    "\n",
    " 1. 每一个if 语句必须包含一个else\n",
    " 2. 如果这个else永远都不应该被执行到, 那必须在else语句后面使用一个叫做die的函数\n",
    " 3. 将if语句当作段落来对待, 其中的每一个if, elif, else组合就跟一个段落的句子组合一样. 在这种组合的最前面和最后面留一个空行以做区分\n",
    "\n",
    "## 循环的规则:\n",
    "\n",
    "1. 只有在循环永不停止时使用“while循环”\n",
    "2. 其他类型循环都使用“for 循环”\n"
   ]
  },
  {
   "cell_type": "markdown",
   "metadata": {},
   "source": [
    "# ex37\n",
    "# 复习各种符号\n",
    "\n",
    "## keywords:\n",
    "\n",
    "**del**:used to delete objects. In python, everything is an object, so the `del` keywords can be used to delete variables, lists, or parts of a list.\n",
    "**from**: used to import only a specified section from a module.\n",
    "as: create an alias\n",
    "**global**: used to create global variables from a no-global scope.\n",
    "with: wrap the execution of a block of code within methods defined by the context manager.\n",
    "**assert**: used when debugging code. if the condition didn't return True, the program will raise an AssertionError\n",
    "**pass**: used as an placeholder. (If you have an empty function definition, you would run into error without pass statement)\n",
    "**yield**: used inside a function like a `return` statement. But `yield` returns a generator(an iterator that genereates one item at a time.)\n",
    "```\n",
    "def generator():\n",
    "    for i in range(6):\n",
    "        yield i * i\n",
    "\n",
    "g = generator()\n",
    "for i in g:\n",
    "    print(i)\n",
    "```\n",
    "**break**:used inside `for` and `while` loop. Will end the smallest loop it is in and control flows to the statement immediately below the loop.\n",
    "**continue**: similar to `break`, causes to end the current iteration of the loop, not the whole loop.\n",
    "**except**: used in `try...except` blocks. It defines a block of code to run if the try block raises an error.\n",
    "**exec function**:used for the dynamic execution of Python program which can either be a string or object code.\n",
    "**raise**: used to raise an exception(*difference between raise and except*)\n",
    "**finally**: used in `try...except` blocks. It defines a block of code to run when the `try...except...else` block is final. The block will be executed no matter if the try block raises an error or not.\n",
    "**lambda**: used to create an anonymous function, inline function, does not contain a `return` statement. Can take any number of arguments, but can only have one expression.\n",
    "## 数据类型:\n",
    "\n",
    "## escape sequence(转义序列)\n",
    "**\\a**: 响铃\n",
    "**\\b**: 退格\n",
    "**\\f**: 表单填充符\n",
    "**\\n**: 换行符\n",
    "**\\r**: 回车\n",
    "**\\t**: 制表符\n",
    "**\\v**: 垂直制表符\n",
    "## string formats(字符串格式化)\n",
    "**%d**/**%i**:十进制整数\n",
    "**%o**:八进制\n",
    "**%u**:无符号整数\n",
    "**%x**/**%X**:小写十六进制数/大写十六进制数\n",
    "**%e**/**%E**:指数表示(e)/指数表示(E)\n",
    "**%f**/**%F**:浮点实数\n",
    "**%g**:输出%f & %r中较小的那个\n",
    "**%G**:同上,但是大写\n",
    "**%c**:字符格式\n",
    "**%r**:Repr格式\n",
    "**%%**:百分号自身\n",
    "\n",
    "## 操作符号\n",
    "**@**\n"
   ]
  },
  {
   "cell_type": "markdown",
   "metadata": {},
   "source": [
    "# ex39\n",
    "\n"
   ]
  },
  {
   "cell_type": "code",
   "execution_count": 1,
   "metadata": {},
   "outputs": [
    {
     "name": "stdout",
     "output_type": "stream",
     "text": [
      "Wait there's not 10 things in that list, let's fix that.\n",
      "Adding:  Boy\n",
      "There's 7 items now.\n",
      "Adding:  Girl\n",
      "There's 8 items now.\n",
      "Adding:  Banana\n",
      "There's 9 items now.\n",
      "Adding:  Corn\n",
      "There's 10 items now.\n",
      "There we go: ['Apple', 'Organes', 'Crows', 'Telephone', 'Light', 'Sugar', 'Boy', 'Girl', 'Banana', 'Corn']\n",
      "Let's do some things with stuff.\n",
      "Organes\n",
      "Corn\n",
      "Corn\n",
      "Apple Organes Crows Telephone Light Sugar Boy Girl Banana\n",
      "Telephone#Light\n"
     ]
    }
   ],
   "source": [
    "ten_things = \"Apple Organes Crows Telephone Light Sugar\"\n",
    "\n",
    "print(\"Wait there's not 10 things in that list, let's fix that.\")\n",
    "\n",
    "stuff = ten_things.split(' ')\n",
    "\n",
    "more_stuff = [\"Day\", \"Night\", \"Song\",\"Frisbess\", \"Corn\", \"Banana\", \"Girl\", \"Boy\"]\n",
    "\n",
    "\n",
    "while len(stuff) != 10:\n",
    "    next_one = more_stuff.pop()\n",
    "    print(\"Adding: \", next_one)\n",
    "    stuff.append(next_one)\n",
    "    print(\"There's %d items now.\" % len(stuff))\n",
    "    \n",
    "print(\"There we go:\", stuff)\n",
    "print(\"Let's do some things with stuff.\")\n",
    "\n",
    "print(stuff[1])\n",
    "print(stuff[-1])\n",
    "print(stuff.pop())\n",
    "print(' '.join(stuff))\n",
    "print(\"#\".join(stuff[3:5]))\n",
    "    "
   ]
  },
  {
   "cell_type": "markdown",
   "metadata": {},
   "source": [
    "# ex40\n",
    "> Dictionary"
   ]
  },
  {
   "cell_type": "code",
   "execution_count": 2,
   "metadata": {},
   "outputs": [
    {
     "name": "stdout",
     "output_type": "stream",
     "text": [
      "b\n"
     ]
    }
   ],
   "source": [
    "things = ['a', 'b', 'c', 'd']\n",
    "print(things[1])\n"
   ]
  },
  {
   "cell_type": "code",
   "execution_count": 3,
   "metadata": {},
   "outputs": [
    {
     "name": "stdout",
     "output_type": "stream",
     "text": [
      "zed\n",
      "36\n",
      "74\n"
     ]
    }
   ],
   "source": [
    "stuff = {'name': 'zed', 'age':36, 'height': 6*12 + 2}\n",
    "print(stuff['name'])\n",
    "print(stuff['age'])\n",
    "print(stuff['height'])"
   ]
  },
  {
   "cell_type": "code",
   "execution_count": 4,
   "metadata": {},
   "outputs": [
    {
     "name": "stdout",
     "output_type": "stream",
     "text": [
      "San Francisco\n"
     ]
    }
   ],
   "source": [
    "stuff['city'] = 'San Francisco'\n",
    "print(stuff['city'])\n"
   ]
  },
  {
   "cell_type": "code",
   "execution_count": 5,
   "metadata": {},
   "outputs": [
    {
     "name": "stdout",
     "output_type": "stream",
     "text": [
      "{'height': 74, 2: 'Neato', 'city': 'San Francisco', 'name': 'zed', 1: 'Wow', 'age': 36}\n"
     ]
    }
   ],
   "source": [
    "stuff[1] = 'Wow'\n",
    "stuff[2] = \"Neato\"\n",
    "print(stuff)"
   ]
  },
  {
   "cell_type": "code",
   "execution_count": 8,
   "metadata": {},
   "outputs": [
    {
     "name": "stdout",
     "output_type": "stream",
     "text": [
      "{'height': 74, 2: 'Neato', 'name': 'zed', 1: 'Wow', 'age': 36}\n"
     ]
    }
   ],
   "source": [
    "del stuff['city']\n",
    "print(stuff)"
   ]
  },
  {
   "cell_type": "code",
   "execution_count": 9,
   "metadata": {},
   "outputs": [
    {
     "name": "stdout",
     "output_type": "stream",
     "text": [
      "State?(Enter to quit)\n",
      "> New York\n",
      "Not found\n",
      "State?(Enter to quit)\n",
      "> CA\n",
      "San Francisco\n",
      "State?(Enter to quit)\n",
      "> \n"
     ]
    }
   ],
   "source": [
    "cities = {'CA': 'San Francisco', 'MI': 'Detroit', 'FL':'Jacksonville'}\n",
    "\n",
    "#把NY & OR添加进cities\n",
    "cities['NY'] = 'New York'\n",
    "cities['OR'] = 'Portland'\n",
    "\n",
    "def find_city(themap, state):\n",
    "    if state in themap:\n",
    "        return themap[state]\n",
    "    else:\n",
    "        return \"Not found\"\n",
    "    \n",
    "    \n",
    "#cities'_find'对应的value被定义成了find_city函数\n",
    "cities['_find'] = find_city\n",
    "\n",
    "#创造了一个永远执行的while循环\n",
    "while True:\n",
    "    print(\"State?(Enter to quit)\")\n",
    "    state = input(\"> \")\n",
    "    if not state: break\n",
    "        \n",
    "#cities['find'] 相当于find_city        \n",
    "    city_found = cities['_find'](cities, state)\n",
    "    print(city_found)"
   ]
  }
 ],
 "metadata": {
  "kernelspec": {
   "display_name": "Python 3",
   "language": "python",
   "name": "python3"
  },
  "language_info": {
   "codemirror_mode": {
    "name": "ipython",
    "version": 3
   },
   "file_extension": ".py",
   "mimetype": "text/x-python",
   "name": "python",
   "nbconvert_exporter": "python",
   "pygments_lexer": "ipython3",
   "version": "3.5.1"
  }
 },
 "nbformat": 4,
 "nbformat_minor": 2
}
